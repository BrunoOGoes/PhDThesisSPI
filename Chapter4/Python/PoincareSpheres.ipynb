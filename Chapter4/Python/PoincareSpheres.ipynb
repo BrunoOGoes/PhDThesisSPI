{
 "cells": [
  {
   "cell_type": "code",
   "execution_count": 6,
   "id": "904784ad",
   "metadata": {},
   "outputs": [],
   "source": [
    "# Plot\n",
    "PlotsPath = \"/Users/brunogoes/Dropbox/00--Thesis/Figures/Chap4/ToEdit/\"\n",
    "font_Size = 24"
   ]
  },
  {
   "cell_type": "code",
   "execution_count": 8,
   "id": "952654e5",
   "metadata": {},
   "outputs": [
    {
     "ename": "AttributeError",
     "evalue": "partially initialized module 'qutip' has no attribute 'settings' (most likely due to a circular import)",
     "output_type": "error",
     "traceback": [
      "\u001b[0;31m---------------------------------------------------------------------------\u001b[0m",
      "\u001b[0;31mAttributeError\u001b[0m                            Traceback (most recent call last)",
      "Cell \u001b[0;32mIn[8], line 2\u001b[0m\n\u001b[1;32m      1\u001b[0m \u001b[38;5;66;03m# Qutip\u001b[39;00m\n\u001b[0;32m----> 2\u001b[0m \u001b[38;5;28;01mfrom\u001b[39;00m \u001b[38;5;21;01mqutip\u001b[39;00m \u001b[38;5;28;01mimport\u001b[39;00m \u001b[38;5;241m*\u001b[39m\n\u001b[1;32m      4\u001b[0m \u001b[38;5;66;03m#from collections import namedtuple\u001b[39;00m\n\u001b[1;32m      5\u001b[0m \n\u001b[1;32m      6\u001b[0m \u001b[38;5;66;03m# Scipy\u001b[39;00m\n\u001b[1;32m      7\u001b[0m \u001b[38;5;28;01mimport\u001b[39;00m \u001b[38;5;21;01mscipy\u001b[39;00m \u001b[38;5;28;01mas\u001b[39;00m \u001b[38;5;21;01msp\u001b[39;00m\n",
      "File \u001b[0;32m/opt/anaconda3/lib/python3.9/site-packages/qutip/__init__.py:12\u001b[0m\n\u001b[1;32m     10\u001b[0m \u001b[38;5;28;01mtry\u001b[39;00m:\n\u001b[1;32m     11\u001b[0m     __IPYTHON__\n\u001b[0;32m---> 12\u001b[0m     \u001b[43mqutip\u001b[49m\u001b[38;5;241;43m.\u001b[39;49m\u001b[43msettings\u001b[49m\u001b[38;5;241m.\u001b[39mipython \u001b[38;5;241m=\u001b[39m \u001b[38;5;28;01mTrue\u001b[39;00m\n\u001b[1;32m     13\u001b[0m \u001b[38;5;28;01mexcept\u001b[39;00m \u001b[38;5;167;01mNameError\u001b[39;00m:\n\u001b[1;32m     14\u001b[0m     qutip\u001b[38;5;241m.\u001b[39msettings\u001b[38;5;241m.\u001b[39mipython \u001b[38;5;241m=\u001b[39m \u001b[38;5;28;01mFalse\u001b[39;00m\n",
      "\u001b[0;31mAttributeError\u001b[0m: partially initialized module 'qutip' has no attribute 'settings' (most likely due to a circular import)"
     ]
    }
   ],
   "source": [
    "# Qutip\n",
    "from qutip import *\n",
    "\n",
    "#from collections import namedtuple\n",
    "\n",
    "# Scipy\n",
    "import scipy as sp\n",
    "import scipy.integrate as integrate\n",
    "import scipy.special as special\n",
    "import scipy.sparse as spr\n",
    "from scipy.sparse.linalg import eigs\n",
    "from scipy.integrate import quad, dblquad\n",
    "\n",
    "# Matplotlib\n",
    "import matplotlib as mpl\n",
    "from matplotlib import cm\n",
    "import matplotlib.pyplot as plt\n",
    "import matplotlib.gridspec as gridspec\n",
    "\n",
    "# For latex fonts in the plots\n",
    "plt.rc('text', usetex=True)\n",
    "plt.rc('font', family='serif')\n",
    "#plt.style.use('ggplot')\n",
    "\n",
    "# For indexing plots smartly and automatically\n",
    "import string\n",
    "alphabet = list(string.ascii_lowercase)\n",
    "\n",
    "# Math\n",
    "import csv\n",
    "import numpy as np\n",
    "import math as mt\n",
    "from sympy import Matrix\n",
    "\n",
    "# To animate the Bloch sphere\n",
    "from pylab import *\n",
    "import matplotlib.animation as animation\n",
    "from mpl_toolkits.mplot3d import Axes3D\n",
    "from matplotlib import cm\n",
    "\n",
    "# Bonus\n",
    "import itertools as itr\n",
    "from tqdm import tqdm_notebook\n",
    "import time\n",
    "import imageio\n",
    "import time, sys\n",
    "from IPython.display import clear_output\n",
    "from scipy.sparse.linalg import eigs\n",
    "import pickle"
   ]
  },
  {
   "cell_type": "markdown",
   "id": "c7df752f",
   "metadata": {},
   "source": [
    "# Poincaré spheres"
   ]
  },
  {
   "cell_type": "markdown",
   "id": "339b74f4",
   "metadata": {},
   "source": [
    "## Single photon pulse"
   ]
  },
  {
   "cell_type": "code",
   "execution_count": 59,
   "id": "ce9c3b9a",
   "metadata": {},
   "outputs": [],
   "source": [
    "def Static_Poincare_sphere(states, vector_color_list, S_up_or_dw, save = True, path_and_filename_dot_pdf = 'unamed_sphere.pdf', view = [-40,30]):\n",
    "    b = Bloch()\n",
    "\n",
    "    b.view = view\n",
    "\n",
    "    images=[]\n",
    "\n",
    "    try:\n",
    "\n",
    "        length = len(states)\n",
    "\n",
    "    except:\n",
    "\n",
    "        length = 1\n",
    "\n",
    "        states = [states]\n",
    "        \n",
    "    b.xlabel= [r'$H$', r'$V$']\n",
    "    # I'm interested just in the H-R plane, hence I do this trick by hand, but could be better implemented.\n",
    "    b.ylabel= ['', ''] #[r'$\\left|A\\right>$', r'$\\left|D\\right>$']\n",
    "    b.zlabel= [r'$R$', r'$L$']\n",
    "    \n",
    "    for i in range(length):\n",
    "        if i == 0 :\n",
    "            if S_up_or_dw == 'up':\n",
    "                b.vector_color = ['purple', 'b']\n",
    "            if S_up_or_dw == 'down':\n",
    "                b.vector_color = ['purple', 'r']\n",
    "            b.add_vectors(states[i]) \n",
    "            \n",
    "        elif i == len(states)-1 :\n",
    "            #b.vector_color = ['r']\n",
    "            b.add_vectors(states[i]) \n",
    "            \n",
    "        else:\n",
    "            b.point_color = vector_color_list\n",
    "            b.add_points(states[i])\n",
    "        \n",
    "    if save == True:\n",
    "        b.save(path_and_filename_dot_pdf)\n",
    "    \n",
    "    b.render()"
   ]
  },
  {
   "cell_type": "code",
   "execution_count": 60,
   "id": "46c52a8d",
   "metadata": {},
   "outputs": [],
   "source": [
    "####################################################\n",
    "#                Single photon pulse\n",
    "####################################################\n",
    "\n",
    "def Intensities_single_photon_pulse(t, γ=1):\n",
    "    \n",
    "    f1 = np.sqrt(γ)*np.exp(-γ*t/2)\n",
    "    \n",
    "    f2 = np.sqrt(γ)*t*np.exp(-γ*t/2)\n",
    "    \n",
    "    I_r = (f1 - γ*f2)**2/2\n",
    "    \n",
    "    I_l = f1**2/2\n",
    "    \n",
    "    Int = f1*(f1 - γ*f2)\n",
    "   \n",
    "    return [I_r + I_l, I_r - I_l, Int]\n",
    "\n",
    "def Poin_vecs_SPP(intensities_vec_t):\n",
    "    v = intensities_vec_t\n",
    "    \n",
    "    S_up = [v[2]/v[0], 0, v[1]/v[0]]\n",
    "    \n",
    "    S_dw = [v[2]/v[0], 0, -v[1]/v[0]]\n",
    "    \n",
    "    return[S_up, S_dw]"
   ]
  },
  {
   "cell_type": "code",
   "execution_count": 61,
   "id": "de6d3d93",
   "metadata": {},
   "outputs": [],
   "source": [
    "t_SPP = np.arange(0, 200.05,0.05)"
   ]
  },
  {
   "cell_type": "code",
   "execution_count": 62,
   "id": "8f835284",
   "metadata": {},
   "outputs": [],
   "source": [
    "I_tot_vec = [Intensities_single_photon_pulse(t)[0] for t in t_SPP]"
   ]
  },
  {
   "cell_type": "code",
   "execution_count": 63,
   "id": "fb987566",
   "metadata": {},
   "outputs": [],
   "source": [
    "Poinc_vecs_SPP = Poin_vecs_SPP(I_tot_vec) "
   ]
  },
  {
   "cell_type": "code",
   "execution_count": 64,
   "id": "512f765d",
   "metadata": {},
   "outputs": [],
   "source": [
    "Poinc_vecs_SPP_list = [Poin_vecs_SPP(Intensities_single_photon_pulse(t, 1)) for t in t_SPP]"
   ]
  },
  {
   "cell_type": "code",
   "execution_count": 65,
   "id": "3dd67680",
   "metadata": {},
   "outputs": [],
   "source": [
    "P_up_SPP = [Poinc_vecs_SPP_list[i][0] for i in np.arange(0,len(Poinc_vecs_SPP))]\n",
    "P_dw_SPP = [Poinc_vecs_SPP_list[i][1] for i in np.arange(0,len(Poinc_vecs_SPP))]"
   ]
  },
  {
   "cell_type": "code",
   "execution_count": 66,
   "id": "299b7f42",
   "metadata": {},
   "outputs": [],
   "source": [
    "Static_Poincare_sphere(P_up_SPP, ['b'], 'up', save = True, path_and_filename_dot_pdf = PlotsPath+'S_up_SPP.pdf', view = [0,0])\n",
    "Static_Poincare_sphere(P_dw_SPP, ['r'], 'down', save = True, path_and_filename_dot_pdf = PlotsPath+'S_dw_SPP.pdf', view = [0,0])"
   ]
  },
  {
   "cell_type": "markdown",
   "id": "0b2a6770",
   "metadata": {},
   "source": [
    "## Coherent pulse"
   ]
  },
  {
   "cell_type": "code",
   "execution_count": null,
   "id": "5c1b5b48",
   "metadata": {},
   "outputs": [],
   "source": [
    "basis(4,1)"
   ]
  },
  {
   "cell_type": "code",
   "execution_count": null,
   "id": "61b19d74",
   "metadata": {},
   "outputs": [],
   "source": [
    "[spinDw, spinUp, trionDw, trionUp] = [basis(4,i) for i in range(0,4)]"
   ]
  },
  {
   "cell_type": "code",
   "execution_count": null,
   "id": "a91816d6",
   "metadata": {},
   "outputs": [],
   "source": [
    "sigmaL = spinUp*(trionUp.dag())\n",
    "sigmaR = spinDw*(trionDw.dag())"
   ]
  },
  {
   "cell_type": "code",
   "execution_count": null,
   "id": "054ff265",
   "metadata": {},
   "outputs": [],
   "source": [
    "Delta = 0\n",
    "H0 = Delta*(sigmaR.dag()*sigmaR + sigmaL.dag()*sigmaL) "
   ]
  },
  {
   "cell_type": "code",
   "execution_count": null,
   "id": "36b6e9cd",
   "metadata": {},
   "outputs": [],
   "source": [
    "tf = 100\n",
    "number_of_steps = 500\n",
    "t_list = linspace(0,tf,number_of_steps)"
   ]
  },
  {
   "cell_type": "code",
   "execution_count": null,
   "id": "b82ca696",
   "metadata": {},
   "outputs": [],
   "source": [
    "n_H = 1\n",
    "Gamma = 1\n",
    "alpha_t_list = [np.sqrt(n_H*Gamma)*np.exp(-Gamma*t) for t in t_list]"
   ]
  },
  {
   "cell_type": "code",
   "execution_count": null,
   "id": "fd07c66a",
   "metadata": {},
   "outputs": [],
   "source": [
    "Htot = [[(sigmaR.dag() - sigmaR), alpha_t_list], [(sigmaL.dag() - sigmaL), alpha_t_list]]"
   ]
  },
  {
   "cell_type": "code",
   "execution_count": null,
   "id": "9055ded1",
   "metadata": {},
   "outputs": [],
   "source": [
    "initial_state = (spinDw + spinUp).unit()\n",
    "initial_state"
   ]
  },
  {
   "cell_type": "code",
   "execution_count": 5,
   "id": "c200a8c0",
   "metadata": {},
   "outputs": [
    {
     "ename": "NameError",
     "evalue": "name 'mesolve' is not defined",
     "output_type": "error",
     "traceback": [
      "\u001b[0;31m---------------------------------------------------------------------------\u001b[0m",
      "\u001b[0;31mNameError\u001b[0m                                 Traceback (most recent call last)",
      "Cell \u001b[0;32mIn[5], line 1\u001b[0m\n\u001b[0;32m----> 1\u001b[0m dyn_solution \u001b[38;5;241m=\u001b[39m \u001b[43mmesolve\u001b[49m(Htot, initial_state, t_list,  c_ops \u001b[38;5;241m=\u001b[39m [sigmaR, sigmaL], args \u001b[38;5;241m=\u001b[39m \u001b[38;5;28;01mNone\u001b[39;00m)\n",
      "\u001b[0;31mNameError\u001b[0m: name 'mesolve' is not defined"
     ]
    }
   ],
   "source": [
    "dyn_solution = mesolve(Htot, initial_state, t_list,  c_ops = [sigmaR, sigmaL], args = None)"
   ]
  },
  {
   "cell_type": "code",
   "execution_count": 4,
   "id": "c67f9b4c",
   "metadata": {},
   "outputs": [
    {
     "ename": "NameError",
     "evalue": "name 'dyn_solution' is not defined",
     "output_type": "error",
     "traceback": [
      "\u001b[0;31m---------------------------------------------------------------------------\u001b[0m",
      "\u001b[0;31mNameError\u001b[0m                                 Traceback (most recent call last)",
      "Cell \u001b[0;32mIn[4], line 1\u001b[0m\n\u001b[0;32m----> 1\u001b[0m \u001b[43mdyn_solution\u001b[49m\u001b[38;5;241m.\u001b[39mstates()\n",
      "\u001b[0;31mNameError\u001b[0m: name 'dyn_solution' is not defined"
     ]
    }
   ],
   "source": [
    "dyn_solution.states()"
   ]
  },
  {
   "cell_type": "code",
   "execution_count": null,
   "id": "097ab19e",
   "metadata": {},
   "outputs": [],
   "source": []
  }
 ],
 "metadata": {
  "kernelspec": {
   "display_name": "Python 3 (ipykernel)",
   "language": "python",
   "name": "python3"
  },
  "language_info": {
   "codemirror_mode": {
    "name": "ipython",
    "version": 3
   },
   "file_extension": ".py",
   "mimetype": "text/x-python",
   "name": "python",
   "nbconvert_exporter": "python",
   "pygments_lexer": "ipython3",
   "version": "3.9.16"
  }
 },
 "nbformat": 4,
 "nbformat_minor": 5
}
