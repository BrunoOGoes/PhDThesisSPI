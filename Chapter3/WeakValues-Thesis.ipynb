{
 "cells": [
  {
   "cell_type": "markdown",
   "id": "0d7e2e83",
   "metadata": {},
   "source": [
    "# Anomalous energy exchanges and Wigner-function negativities in a single-qubit gate"
   ]
  },
  {
   "cell_type": "markdown",
   "id": "52b75aaf",
   "metadata": {},
   "source": [
    "In this notebook and the joint .py we provide the necessary functions to obtain the plots presented in the paper 10.1103/PhysRevA.107.023710."
   ]
  },
  {
   "cell_type": "code",
   "execution_count": 1,
   "id": "897a241b",
   "metadata": {},
   "outputs": [
    {
     "name": "stdout",
     "output_type": "stream",
     "text": [
      "hello world!\n"
     ]
    }
   ],
   "source": [
    "from WeakValues import * # Load the library with all the necessary packages and functions\n",
    "\n",
    "Plots_Path = '/Users/brunogoes/Dropbox/00--Thesis/Figures/Chap3/'\n",
    "Font_Size = 32 #default font size for my plots\n",
    "number_colors = 50\n",
    "colors = plt.cm.inferno(np.linspace(0.85,0.1,number_colors))\n",
    "\n",
    "# Latex fonts in the plots\n",
    "mpl.rc('font', family='serif') # set the font name for a font family\n",
    "plt.rc('text', usetex=True)"
   ]
  },
  {
   "cell_type": "markdown",
   "id": "c2b65443",
   "metadata": {},
   "source": [
    "### Parameters"
   ]
  },
  {
   "cell_type": "code",
   "execution_count": 2,
   "id": "5d2441cd",
   "metadata": {},
   "outputs": [],
   "source": [
    "gamma = 1/8000 # Decay rate\n",
    "tau = 600. # Time of interation\n",
    "delta = 0. # Detuning to zero\n",
    "Gamma = 0. # "
   ]
  },
  {
   "cell_type": "markdown",
   "id": "f403feb2",
   "metadata": {},
   "source": [
    "### Kets to build the density matrices"
   ]
  },
  {
   "cell_type": "code",
   "execution_count": 3,
   "id": "2225b5c9",
   "metadata": {},
   "outputs": [
    {
     "name": "stdout",
     "output_type": "stream",
     "text": [
      "Quantum object: dims = [[4], [1]], shape = (4, 1), type = ket\n",
      "Qobj data =\n",
      "[[ 1.]\n",
      " [ 0.]\n",
      " [ 0.]\n",
      " [-1.]]\n",
      "Quantum object: dims = [[4], [1]], shape = (4, 1), type = ket\n",
      "Qobj data =\n",
      "[[ 1.]\n",
      " [ 0.]\n",
      " [ 0.]\n",
      " [-1.]]\n",
      "Quantum object: dims = [[4], [1]], shape = (4, 1), type = ket\n",
      "Qobj data =\n",
      "[[1.]\n",
      " [0.]\n",
      " [0.]\n",
      " [1.]]\n",
      "Quantum object: dims = [[4], [1]], shape = (4, 1), type = ket\n",
      "Qobj data =\n",
      "[[1.]\n",
      " [0.]\n",
      " [0.]\n",
      " [0.]]\n"
     ]
    }
   ],
   "source": [
    "# Thermal equilibrium density matrix - pre-state\n",
    "pre = basis(4,0) - basis(4,3) #Qobj([1.,0.,0.,-1.])\n",
    "print(pre)\n",
    "\n",
    "# Effect matrix in g - post-state in g\n",
    "pos_g = pre \n",
    "print(pos_g)\n",
    "\n",
    "# Effect matrix in e - post-state in e\n",
    "pos_e = basis(4,0) + basis(4,3)\n",
    "print(pos_e)\n",
    "\n",
    "# Identity\n",
    "ide = basis(4,0) \n",
    "print(ide)"
   ]
  },
  {
   "cell_type": "markdown",
   "id": "42db7a46",
   "metadata": {},
   "source": [
    "## Simulation. Analytical difference of excitations as a function of $\\theta$"
   ]
  },
  {
   "cell_type": "code",
   "execution_count": 4,
   "id": "a392d55c",
   "metadata": {},
   "outputs": [],
   "source": [
    "from WeakValues import tracemoins, traceJm\n",
    "\n",
    "########################################################################################\n",
    "#\n",
    "#   Analytical difference of excitations as a function of time\n",
    "#\n",
    "########################################################################################\n",
    "\n",
    "theta = 0.93*np.pi\n",
    "Omega_number = theta/tau\n",
    "delta_t = 10.\n",
    "tlist =  np.arange(10**-3, tau + delta_t, delta_t)\n",
    "\n",
    "func_ee = lambda t : -Omega_number*np.real(tracemoins(gamma, delta, Omega_number, Gamma, t, tau, pre, pos_e)) + gamma*traceJm(gamma, delta, Omega_number, Gamma, t, tau, pre, pos_e)\n",
    "func_eg = lambda t : -Omega_number*np.real(tracemoins(gamma, delta, Omega_number, Gamma, t, tau, pre, pos_g)) + gamma*traceJm(gamma, delta, Omega_number, Gamma, t, tau, pre, pos_g)\n",
    "func_ei = lambda t : -Omega_number*np.real(tracemoins(gamma, delta, Omega_number, Gamma, t, tau, pre, ide)) + gamma*traceJm(gamma, delta, Omega_number, Gamma, t, tau, pre, ide) \n",
    "\n",
    "numbE_of_t = []\n",
    "\n",
    "numbG_of_t = []\n",
    "    \n",
    "numb_of_t = []\n",
    "\n",
    "for y in tlist:\n",
    "    aux_ee = quad(func_ee, 0, y)[0]\n",
    "    aux_eg = quad(func_eg, 0, y)[0]\n",
    "    aux_ei = quad(func_ei, 0, y)[0]\n",
    "    \n",
    "    numbE_of_t.append(aux_ee)\n",
    "    numbG_of_t.append(aux_eg)\n",
    "    numb_of_t.append(aux_ei)"
   ]
  },
  {
   "cell_type": "markdown",
   "id": "48ab86b0",
   "metadata": {},
   "source": [
    "## Plot. Weak values: number of excitations as a function of time"
   ]
  },
  {
   "cell_type": "code",
   "execution_count": 5,
   "id": "e6a41c74",
   "metadata": {},
   "outputs": [
    {
     "data": {
      "image/png": "[encoded data removed]",
      "text/plain": [
       "<Figure size 1500x300 with 1 Axes>"
      ]
     },
     "metadata": {},
     "output_type": "display_data"
    }
   ],
   "source": [
    "j = 1\n",
    "# Initializing my figure and subplots: one row, one column with the size in inches.\n",
    "fig, axs = plt.subplots(1, 1, figsize = (15,3))\n",
    "gs = gridspec.GridSpec(1,1)\n",
    "\n",
    "# Plots: normalized time, number of excitation, line aesthetics and label.\n",
    "axs.plot(tlist/tau, numbG_of_t, '--', color = 'blue',label = r'$\\Delta\\mathcal{N}_g$')\n",
    "axs.plot(tlist/tau, numbE_of_t, color = 'red', label = r'$\\Delta\\mathcal{N}_e$')\n",
    "axs.plot(tlist/tau, numb_of_t, marker = \"1\", markersize = 20,color = 'black', label = r'$\\Delta\\mathcal{N}$')\n",
    "\n",
    "# Axis identifiers and aesthetics.\n",
    "axs.set_xlabel(r'$t/\\tau$',fontsize = Font_Size)\n",
    "axs.set_ylabel(r'$\\Delta \\mathcal{N}$',fontsize = Font_Size)\n",
    "axs.tick_params(axis='x', labelsize=Font_Size)\n",
    "axs.tick_params(axis='y', labelsize=Font_Size)\n",
    "\n",
    "# Vertical lines showing the allowed range.\n",
    "axs.axhline(0, color = 'gray')\n",
    "axs.axhline(-1, color = 'gray')\n",
    "\n",
    "# Chosen value of angle.\n",
    "axs.annotate(r'$\\theta/\\pi = 0.93$', xy=(0.05,0.5), xycoords= 'axes fraction',fontsize=Font_Size)\n",
    "\n",
    "# Identifiers: plot label and (b) and legend.\n",
    "axs.annotate('('+alphabet[j]+')', xy=(0.05,0.8), xycoords= 'axes fraction',fontsize=Font_Size)    \n",
    "axs.legend(fontsize= Font_Size, loc = 'lower left', ncol=3)\n",
    "\n",
    "# Saving and visialization: I save in both .pdf and .svg. The second is suited to work with illustrator or Gravit Design.\n",
    "plt.savefig(Plots_Path+'Fig1aa.pdf',bbox_inches='tight')\n",
    "plt.savefig(Plots_Path+'Fig1aa.svg',bbox_inches='tight')\n",
    "plt.show() "
   ]
  },
  {
   "cell_type": "markdown",
   "id": "c4199540",
   "metadata": {},
   "source": [
    "## Simulation. Analytical difference of excitations as a function of theta"
   ]
  },
  {
   "cell_type": "code",
   "execution_count": 6,
   "id": "ccac545a",
   "metadata": {},
   "outputs": [],
   "source": [
    "delta_theta = np.pi/70\n",
    "theta_vec = np.arange(delta_theta, np.pi+2*delta_theta, delta_theta)\n",
    "\n",
    "numbE = []\n",
    "numbG = []\n",
    "numb =[]\n",
    "\n",
    "for theta in theta_vec:\n",
    "    \n",
    "    func1 = lambda t: -(theta/tau)*np.real(tracemoins(gamma, delta, theta/tau, Gamma, t, tau, pre, pos_e)) + gamma*traceJm(gamma, delta, theta/tau, Gamma, t, tau, pre, pos_e)\n",
    "    aux1 = complex_quadrature(func1, 0, tau)\n",
    "    numbE.append(np.real(aux1[0]))\n",
    "    \n",
    "    func2 = lambda t: -(theta/tau)*np.real(tracemoins(gamma, delta, theta/tau, Gamma, t, tau, pre, pos_g)) + gamma*traceJm(gamma, delta, theta/tau, Gamma, t, tau, pre, pos_g)\n",
    "    aux2 = complex_quadrature(func2, 0, tau)\n",
    "    numbG.append(np.real(aux2[0]))\n",
    "    \n",
    "    func3 = lambda t: -(theta/tau)*np.real(tracemoins(gamma, delta, theta/tau, Gamma, t, tau, pre, ide)) + gamma*traceJm(gamma, delta, theta/tau, Gamma, t, tau, pre, ide)\n",
    "    aux3 = complex_quadrature(func3, 0, tau)\n",
    "    numb.append(np.real(aux3[0]))"
   ]
  },
  {
   "cell_type": "markdown",
   "id": "f5f6e555",
   "metadata": {},
   "source": [
    "## Simulation. Weak values: Numerical difference of excitations as a function of theta"
   ]
  },
  {
   "cell_type": "code",
   "execution_count": 7,
   "id": "f0168767",
   "metadata": {},
   "outputs": [
    {
     "name": "stderr",
     "output_type": "stream",
     "text": [
      "100%|████████████████████████████████████████████████████████████████████████████████████████████████████████████████████| 71/71 [00:20<00:00,  3.45it/s]\n",
      "100%|████████████████████████████████████████████████████████████████████████████████████████████████████████████████████| 71/71 [00:09<00:00,  7.39it/s]\n"
     ]
    }
   ],
   "source": [
    "delta_theta = np.pi/70\n",
    "theta_range = np.arange(delta_theta, np.pi+2*delta_theta, delta_theta) \n",
    "\n",
    "dataE_1ph = []\n",
    "dataG_1ph = []\n",
    "\n",
    "dataE_2ph = []\n",
    "dataG_2ph = []\n",
    "\n",
    "\n",
    "for theta in tqdm(theta_range):\n",
    "    aux1 = NumberOfExcitations_Total(theta, tau, gamma, Gamma)\n",
    "    aux2 = NumberOfExcitations_Total(theta, tau, gamma, Gamma, Two_photons = True)\n",
    "    \n",
    "    dataE_1ph.append(aux1[1])\n",
    "    dataG_1ph.append(aux1[0])\n",
    "    \n",
    "    dataE_2ph.append(aux2[1])\n",
    "    dataG_2ph.append(aux2[0])\n",
    "    \n",
    "Ng_omega0 = []\n",
    "Ne_omega0 = []\n",
    "\n",
    "for theta in tqdm(theta_range):\n",
    "    \n",
    "    [testg, teste] = NumberOfExcitations_CentralFrequency(theta, tau, gamma, Gamma)\n",
    "    \n",
    "    Ng_omega0.append(testg)\n",
    "    Ne_omega0.append(teste)"
   ]
  },
  {
   "cell_type": "markdown",
   "id": "8912a27e",
   "metadata": {},
   "source": [
    "# Main plot. Weak values: number of excitations as a function of $\\theta$"
   ]
  },
  {
   "cell_type": "code",
   "execution_count": 8,
   "id": "6e2d7cc5",
   "metadata": {},
   "outputs": [
    {
     "data": {
      "image/png": "[encoded data removed]",
      "text/plain": [
       "<Figure size 750x750 with 1 Axes>"
      ]
     },
     "metadata": {},
     "output_type": "display_data"
    }
   ],
   "source": [
    "j = 0\n",
    "fig, axs = plt.subplots(1, 1, figsize = (7.5,7.5))\n",
    "gs = gridspec.GridSpec(1,1)\n",
    "\n",
    "axs.plot(theta_range/np.pi, dataG_2ph,'--', color = 'blue',label = r'$\\Delta\\mathcal{N}_g$')\n",
    "axs.plot(theta_range/np.pi, dataE_2ph, color = 'red', label = r'$\\Delta\\mathcal{N}_e$')\n",
    "\n",
    "\n",
    "axs.annotate('('+alphabet[j]+')', xy=(0.05,0.88), xycoords= 'axes fraction',fontsize=Font_Size)\n",
    "axs.set_xlabel(r'$\\theta/\\pi$',fontsize = Font_Size)\n",
    "axs.set_ylabel(r'$\\Delta \\mathcal{N}$',fontsize = Font_Size)\n",
    "axs.tick_params(axis='x', labelsize=Font_Size)\n",
    "axs.tick_params(axis='y', labelsize=Font_Size)\n",
    "\n",
    "axs.axhline(1, color = 'darkgray')\n",
    "axs.axhline(0, color = 'darkgray')\n",
    "axs.axhline(-1, color = 'darkgray')\n",
    "\n",
    "axs.annotate('Anomalous', xy=(0.6,0.54), xycoords= 'axes fraction',fontsize=Font_Size)\n",
    "axs.annotate(' weak', xy=(0.72,0.48), xycoords= 'axes fraction',fontsize=Font_Size)\n",
    "axs.annotate('values', xy=(0.71,0.42), xycoords= 'axes fraction',fontsize=Font_Size)\n",
    "    \n",
    "axs.legend(fontsize= Font_Size, loc = 'lower left')\n",
    "\n",
    "plt.savefig(Plots_Path+'Fig2a.pdf',bbox_inches='tight')\n",
    "plt.savefig(Plots_Path+'Fig2a.svg',bbox_inches='tight')\n",
    "plt.show() "
   ]
  },
  {
   "cell_type": "markdown",
   "id": "db30fa48",
   "metadata": {},
   "source": [
    "## Appendix plot. Weak values: number of excitations comparison for different number of photons truncation."
   ]
  },
  {
   "cell_type": "code",
   "execution_count": null,
   "id": "69b45acf",
   "metadata": {},
   "outputs": [],
   "source": [
    "j = 0\n",
    "fig, axs = plt.subplots(1, 1, figsize = (10,10))\n",
    "gs = gridspec.GridSpec(1,1)\n",
    "\n",
    "axs.plot(theta_vec/np.pi, numbG, '--', color = 'blue', label = r'$\\Delta\\mathcal{N}_g$')\n",
    "axs.plot(theta_vec/np.pi, numbE, color = 'red', label = r'$\\Delta\\mathcal{N}_e$')\n",
    "\n",
    "axs.plot(theta_range/np.pi, dataG_1ph, 'X', color = 'slateblue', markersize=10,  label = r'$\\Delta\\mathcal{N}_g$: 1 photon')\n",
    "axs.plot(theta_range/np.pi, dataE_1ph, 'P', color = 'indianred', markersize=14, label = r'$\\Delta\\mathcal{N}_e$: 1 photon')\n",
    "\n",
    "axs.plot(theta_range/np.pi, dataG_2ph,'d',color = 'dodgerblue', markersize=10,  label = r'$\\Delta\\mathcal{N}_g$: 2 photons')\n",
    "axs.plot(theta_range/np.pi, dataE_2ph, 'o', color = 'violet', markersize=8, label = r'$\\Delta\\mathcal{N}_e$: 2 photons')\n",
    "\n",
    "\n",
    "axs.annotate('('+alphabet[j]+')', xy=(0.05,0.88), xycoords= 'axes fraction',fontsize=Font_Size)\n",
    "axs.set_xlabel(r'$\\theta/\\pi$',fontsize = Font_Size)\n",
    "axs.set_ylabel(r'$\\Delta \\mathcal{N}$',fontsize = Font_Size)\n",
    "axs.tick_params(axis='x', labelsize=Font_Size)\n",
    "axs.tick_params(axis='y', labelsize=Font_Size)\n",
    "\n",
    "axs.set_ylim(-4.5,1.2)\n",
    "axs.axhline(1, color = 'gray')\n",
    "axs.axhline(0, color = 'gray')\n",
    "axs.axhline(-1, color = 'gray')\n",
    "\n",
    "\n",
    "xauxlist = [-1 for i in theta_vec/np.pi]\n",
    "\n",
    "axs.legend(fontsize= Font_Size, loc = 'lower left')\n",
    "\n",
    "plt.savefig(Plots_Path+'Fig1aAppendix.pdf',bbox_inches='tight')\n",
    "plt.savefig(Plots_Path+'Fig1aAppendix.svg',bbox_inches='tight')\n",
    "plt.show() "
   ]
  },
  {
   "cell_type": "markdown",
   "id": "462ec4d3",
   "metadata": {},
   "source": [
    "## Appendix Plot. Weak values: number of excitations comparison centered at the qubit's frequency $\\omega_0$"
   ]
  },
  {
   "cell_type": "code",
   "execution_count": null,
   "id": "c4c43368",
   "metadata": {},
   "outputs": [],
   "source": [
    "j = 1\n",
    "fig, axs = plt.subplots(1, 1, figsize = (10,10))\n",
    "gs = gridspec.GridSpec(1,1)\n",
    "\n",
    "axs.plot(theta_vec/np.pi, numbG, '--', color = 'blue', label = r'$\\Delta\\mathcal{N}_g$')\n",
    "axs.plot(theta_vec/np.pi, numbE, color = 'red',label = r'$\\Delta\\mathcal{N}_e$')\n",
    "\n",
    "axs.plot(theta_range/np.pi, Ng_omega0, 's', color = 'dodgerblue', markersize=10, label = r'$\\Delta{\\cal N}_g(\\omega_0)$')\n",
    "axs.plot(theta_range/np.pi, Ne_omega0, \"^\", color = 'violet', markersize=10, label = r'$\\Delta{\\cal N}_e(\\omega_0)$')\n",
    "\n",
    "axs.annotate('('+alphabet[j]+')', xy=(0.05,0.88), xycoords= 'axes fraction',fontsize=Font_Size)\n",
    "axs.set_xlabel(r'$\\theta/\\pi$',fontsize = Font_Size)\n",
    "axs.set_ylabel(r'$\\Delta \\mathcal{N}$',fontsize = Font_Size)\n",
    "axs.tick_params(axis='x', labelsize=Font_Size)\n",
    "axs.tick_params(axis='y', labelsize=Font_Size)\n",
    "\n",
    "\n",
    "axs.axhline(0, color = 'gray')\n",
    "axs.axhline(1, color = 'gray')\n",
    "axs.axhline(-1, color = 'gray')\n",
    "axs.set_ylim(-4.5,1.2)\n",
    "xauxlist = [-1 for i in theta_vec/np.pi]\n",
    "\n",
    "axs.legend(fontsize= Font_Size, loc = 'lower left')\n",
    "\n",
    "plt.savefig(Plots_Path+'Fig1bAppendix.pdf',bbox_inches='tight')\n",
    "plt.savefig(Plots_Path+'Fig1bAppendix.svg',bbox_inches='tight')\n",
    "plt.show() "
   ]
  },
  {
   "cell_type": "markdown",
   "id": "5f05ee9e",
   "metadata": {},
   "source": [
    "## Wigner function negativity"
   ]
  },
  {
   "cell_type": "markdown",
   "id": "d336d240",
   "metadata": {},
   "source": [
    "### Wigner function negativity with fixed densities"
   ]
  },
  {
   "cell_type": "code",
   "execution_count": null,
   "id": "35a2adf3",
   "metadata": {},
   "outputs": [],
   "source": [
    "delta_theta = np.pi/70\n",
    "theta_range = np.arange(delta_theta, np.pi+2*delta_theta, delta_theta) \n",
    "\n",
    "#The xy-range that the function will be ploted is: \n",
    "xvec = np.linspace(-3,3,200)\n",
    "dxdy = (xvec[1] - xvec[0])**2\n",
    "# # Make the meshgrid\n",
    "X, Y = np.meshgrid(xvec, xvec)\n",
    "\n",
    "WignerNegativityG_Usual = []\n",
    "WignerNegativityE_Usual = []\n",
    "\n",
    "WignerNegativityG_Modified = []\n",
    "WignerNegativityE_Modified = []\n",
    "\n",
    "dxdy =(xvec[1] - xvec[0])**2 \n",
    "\n",
    "for theta in tqdm(theta_range):\n",
    "    \n",
    "    [Zg, Ze] = Wf_g_and_e2_FixedDensities(theta, X, Y, tau, gamma, Gamma)\n",
    "    \n",
    "    computeforG_Usual = sum(dxdy*abs(Zg))-1\n",
    "    computeforE_Usual = sum(dxdy*abs(Ze))-1\n",
    "    \n",
    "    computeforG_Modified = sum(dxdy*abs(Zg))-sum(dxdy*Zg)\n",
    "    computeforE_Modified = sum(dxdy*abs(Ze))-sum(dxdy*Ze)\n",
    "    \n",
    "    WignerNegativityG_Usual.append(computeforG_Usual)\n",
    "    WignerNegativityE_Usual.append(computeforE_Usual)\n",
    "    \n",
    "    WignerNegativityG_Modified.append(computeforG_Modified)\n",
    "    WignerNegativityE_Modified.append(computeforE_Modified)"
   ]
  },
  {
   "cell_type": "markdown",
   "id": "8727aa04",
   "metadata": {},
   "source": [
    "### Main"
   ]
  },
  {
   "cell_type": "code",
   "execution_count": null,
   "id": "0216f10f",
   "metadata": {},
   "outputs": [],
   "source": [
    "j=3\n",
    "fig, axs = plt.subplots(1, 1, figsize = (6.5,5))\n",
    "gs = gridspec.GridSpec(1,1)\n",
    "\n",
    "axs.plot(theta_range/np.pi, WignerNegativityE_Modified, color = 'red', label = r'$N({\\cal W}_e)$')\n",
    "axs.plot(theta_range/np.pi, WignerNegativityG_Modified, '--' ,color = 'blue', label = r'$N({\\cal W}_g$)')\n",
    "\n",
    "axs.set_xlabel(r'$\\theta/\\pi$',fontsize = Font_Size)\n",
    "axs.tick_params(axis='x', labelsize=Font_Size)\n",
    "axs.tick_params(axis='y', labelsize=Font_Size)\n",
    "axs.set_ylim([-10**-3,8*10**-2])\n",
    "axs.annotate('('+alphabet[j]+')', xy=(0.05,0.88), xycoords= 'axes fraction',fontsize=Font_Size)\n",
    "\n",
    "axs.legend(fontsize= Font_Size, loc = 'lower left')\n",
    "\n",
    "plt.savefig(Plots_Path+'Fig2b.pdf',bbox_inches='tight')\n",
    "plt.savefig(Plots_Path+'Fig2b.svg',bbox_inches='tight')\n",
    "plt.show()"
   ]
  },
  {
   "cell_type": "markdown",
   "id": "724f1d95",
   "metadata": {},
   "source": [
    "#### Zoomed"
   ]
  },
  {
   "cell_type": "code",
   "execution_count": null,
   "id": "49c9d9a8",
   "metadata": {},
   "outputs": [],
   "source": [
    "j=4\n",
    "fig, axs = plt.subplots(1, 1, figsize = (6.5,5))\n",
    "gs = gridspec.GridSpec(1,1)\n",
    "\n",
    "#axs.plot(theta_range[41:62]/np.pi, WignerNegativityE_Modified[41:62],'--', color = 'orange', label = r'$N({\\cal W}_{e})$')\n",
    "axs.plot(theta_range[41:]/np.pi, WignerNegativityG_Modified[41:],'--', color = 'blue')\n",
    "\n",
    "axs.set_xlabel(r'$\\theta/\\pi$',fontsize = Font_Size)\n",
    "axs.set_ylabel(r'$N({\\cal W}_{g}$)',fontsize = Font_Size)\n",
    "axs.tick_params(axis='x', labelsize=Font_Size)\n",
    "axs.tick_params(axis='y', labelsize=Font_Size)\n",
    "axs.annotate('('+alphabet[j]+')', xy=(0.05,0.88), xycoords= 'axes fraction',fontsize=Font_Size)\n",
    "#axs.legend(fontsize= Font_Size, loc = 'lower left')\n",
    "axs.set_yscale('log')\n",
    "#axs.set_xscale('log')\n",
    "\n",
    "plt.savefig(Plots_Path+'Fig2bZoom.pdf',bbox_inches='tight')\n",
    "plt.savefig(Plots_Path+'Fig2bZoom.svg',bbox_inches='tight')\n",
    "plt.show()"
   ]
  },
  {
   "cell_type": "markdown",
   "id": "360635b1",
   "metadata": {},
   "source": [
    "## Appendix: showing they're similar"
   ]
  },
  {
   "cell_type": "code",
   "execution_count": null,
   "id": "29614284",
   "metadata": {},
   "outputs": [],
   "source": [
    "fig, axs = plt.subplots(1, 1, figsize = (10,8))\n",
    "gs = gridspec.GridSpec(1,1)\n",
    "\n",
    "axs.plot(theta_range/np.pi, WignerNegativityE_Usual, color = 'red', label = r'$N({\\cal W}_e)$')\n",
    "axs.plot(theta_range/np.pi, WignerNegativityG_Usual, '--', color = 'blue',marker = 'd', label = r'$N({\\cal W}_g$)')\n",
    "\n",
    "axs.plot(theta_range/np.pi, WignerNegativityE_Modified,'--', color = 'orange', label = r'$N({\\cal W}_{em})$')\n",
    "axs.plot(theta_range/np.pi, WignerNegativityG_Modified, '--', color = 'black', label = r'$N({\\cal W}_{gm}$)')\n",
    "\n",
    "axs.set_xlabel(r'$\\theta/\\pi$',fontsize = Font_Size)\n",
    "\n",
    "axs.tick_params(axis='x', labelsize=Font_Size)\n",
    "axs.tick_params(axis='y', labelsize=Font_Size)\n",
    "\n",
    "axs.set_ylim([-5*10**-3,8*10**-2])\n",
    "\n",
    "axs.legend(fontsize= Font_Size, loc = 'upper left')\n",
    "plt.savefig(Plots_Path+'Fig2bAppendix.svg',bbox_inches='tight')\n",
    "plt.show()"
   ]
  },
  {
   "cell_type": "code",
   "execution_count": null,
   "id": "319c1fdf",
   "metadata": {},
   "outputs": [],
   "source": []
  }
 ],
 "metadata": {
  "kernelspec": {
   "display_name": "Python 3 (ipykernel)",
   "language": "python",
   "name": "python3"
  },
  "language_info": {
   "codemirror_mode": {
    "name": "ipython",
    "version": 3
   },
   "file_extension": ".py",
   "mimetype": "text/x-python",
   "name": "python",
   "nbconvert_exporter": "python",
   "pygments_lexer": "ipython3",
   "version": "3.9.13"
  }
 },
 "nbformat": 4,
 "nbformat_minor": 5
}
