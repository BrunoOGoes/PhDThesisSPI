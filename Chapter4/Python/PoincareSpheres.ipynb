{
 "cells": [
  {
   "cell_type": "code",
   "execution_count": 1,
   "id": "904784ad",
   "metadata": {},
   "outputs": [],
   "source": [
    "# Plot\n",
    "PlotsPath = \"/Users/brunogoes/Dropbox/00--Thesis/Figures/Chap4/ToEdit/\"\n",
    "font_Size = 24"
   ]
  },
  {
   "cell_type": "code",
   "execution_count": 2,
   "id": "952654e5",
   "metadata": {},
   "outputs": [],
   "source": [
    "# Qutip\n",
    "from qutip import *\n",
    "\n",
    "#from collections import namedtuple\n",
    "\n",
    "# Scipy\n",
    "import scipy as sp\n",
    "import scipy.integrate as integrate\n",
    "import scipy.special as special\n",
    "import scipy.sparse as spr\n",
    "from scipy.sparse.linalg import eigs\n",
    "from scipy.integrate import quad, dblquad\n",
    "\n",
    "# Matplotlib\n",
    "import matplotlib as mpl\n",
    "from matplotlib import cm\n",
    "import matplotlib.pyplot as plt\n",
    "import matplotlib.gridspec as gridspec\n",
    "\n",
    "# For latex fonts in the plots\n",
    "plt.rc('text', usetex=True)\n",
    "plt.rc('font', family='serif')\n",
    "#plt.style.use('ggplot')\n",
    "\n",
    "# For indexing plots smartly and automatically\n",
    "import string\n",
    "alphabet = list(string.ascii_lowercase)\n",
    "\n",
    "# Math\n",
    "import csv\n",
    "import numpy as np\n",
    "import math as mt\n",
    "from sympy import Matrix\n",
    "\n",
    "# To animate the Bloch sphere\n",
    "from pylab import *\n",
    "import matplotlib.animation as animation\n",
    "from mpl_toolkits.mplot3d import Axes3D\n",
    "from matplotlib import cm\n",
    "\n",
    "# Bonus\n",
    "import itertools as itr\n",
    "from tqdm import tqdm_notebook\n",
    "import time\n",
    "import imageio\n",
    "import time, sys\n",
    "from IPython.display import clear_output\n",
    "from scipy.sparse.linalg import eigs\n",
    "import pickle"
   ]
  },
  {
   "cell_type": "markdown",
   "id": "c7df752f",
   "metadata": {},
   "source": [
    "# Poincaré spheres"
   ]
  },
  {
   "cell_type": "markdown",
   "id": "339b74f4",
   "metadata": {},
   "source": [
    "## Single photon pulse"
   ]
  },
  {
   "cell_type": "code",
   "execution_count": 3,
   "id": "ce9c3b9a",
   "metadata": {},
   "outputs": [],
   "source": [
    "def Static_Poincare_sphere(states, vector_color_list, S_up_or_dw, save = True, path_and_filename_dot_pdf = 'unamed_sphere.pdf', view = [-40,30]):\n",
    "    b = Bloch()\n",
    "\n",
    "    b.view = view\n",
    "\n",
    "    images=[]\n",
    "\n",
    "    try:\n",
    "\n",
    "        length = len(states)\n",
    "\n",
    "    except:\n",
    "\n",
    "        length = 1\n",
    "\n",
    "        states = [states]\n",
    "        \n",
    "    b.xlabel= [r'$H$', r'$V$']\n",
    "    # I'm interested just in the H-R plane, hence I do this trick by hand, but could be better implemented.\n",
    "    b.ylabel= ['', ''] #[r'$\\left|A\\right>$', r'$\\left|D\\right>$']\n",
    "    b.zlabel= [r'$R$', r'$L$']\n",
    "    \n",
    "    for i in range(length):\n",
    "        if i == 0 :\n",
    "            if S_up_or_dw == 'up':\n",
    "                b.vector_color = ['purple', 'b']\n",
    "            if S_up_or_dw == 'down':\n",
    "                b.vector_color = ['purple', 'r']\n",
    "            b.add_vectors(states[i]) \n",
    "            \n",
    "        elif i == len(states)-1 :\n",
    "            #b.vector_color = ['r']\n",
    "            b.add_vectors(states[i]) \n",
    "            \n",
    "        else:\n",
    "            b.point_color = vector_color_list\n",
    "            b.add_points(states[i])\n",
    "        \n",
    "    if save == True:\n",
    "        b.save(path_and_filename_dot_pdf)\n",
    "    \n",
    "    b.render()"
   ]
  },
  {
   "cell_type": "code",
   "execution_count": 4,
   "id": "46c52a8d",
   "metadata": {},
   "outputs": [],
   "source": [
    "####################################################\n",
    "#                Single photon pulse\n",
    "####################################################\n",
    "\n",
    "def Intensities_single_photon_pulse(t, γ=1):\n",
    "    \n",
    "    f1 = np.sqrt(γ)*np.exp(-γ*t/2)\n",
    "    \n",
    "    f2 = np.sqrt(γ)*t*np.exp(-γ*t/2)\n",
    "    \n",
    "    I_r = (f1 - γ*f2)**2/2\n",
    "    \n",
    "    I_l = f1**2/2\n",
    "    \n",
    "    Int = f1*(f1 - γ*f2)\n",
    "   \n",
    "    return [I_r + I_l, I_r - I_l, Int]\n",
    "\n",
    "def Poin_vecs_SPP(intensities_vec_t):\n",
    "    v = intensities_vec_t\n",
    "    \n",
    "    S_up = [v[2]/v[0], 0, v[1]/v[0]]\n",
    "    \n",
    "    S_dw = [v[2]/v[0], 0, -v[1]/v[0]]\n",
    "    \n",
    "    return[S_up, S_dw]"
   ]
  },
  {
   "cell_type": "code",
   "execution_count": 5,
   "id": "de6d3d93",
   "metadata": {},
   "outputs": [],
   "source": [
    "t_SPP = np.arange(0, 200.05,0.05)"
   ]
  },
  {
   "cell_type": "code",
   "execution_count": 6,
   "id": "8f835284",
   "metadata": {},
   "outputs": [],
   "source": [
    "I_tot_vec = [Intensities_single_photon_pulse(t)[0] for t in t_SPP]"
   ]
  },
  {
   "cell_type": "code",
   "execution_count": 7,
   "id": "fb987566",
   "metadata": {},
   "outputs": [],
   "source": [
    "Poinc_vecs_SPP = Poin_vecs_SPP(I_tot_vec) "
   ]
  },
  {
   "cell_type": "code",
   "execution_count": 8,
   "id": "512f765d",
   "metadata": {},
   "outputs": [],
   "source": [
    "Poinc_vecs_SPP_list = [Poin_vecs_SPP(Intensities_single_photon_pulse(t, 1)) for t in t_SPP]"
   ]
  },
  {
   "cell_type": "code",
   "execution_count": 9,
   "id": "3dd67680",
   "metadata": {},
   "outputs": [],
   "source": [
    "P_up_SPP = [Poinc_vecs_SPP_list[i][0] for i in np.arange(0,len(Poinc_vecs_SPP))]\n",
    "P_dw_SPP = [Poinc_vecs_SPP_list[i][1] for i in np.arange(0,len(Poinc_vecs_SPP))]"
   ]
  },
  {
   "cell_type": "code",
   "execution_count": 10,
   "id": "299b7f42",
   "metadata": {},
   "outputs": [],
   "source": [
    "Static_Poincare_sphere(P_up_SPP, ['b'], 'up', save = True, path_and_filename_dot_pdf = PlotsPath+'S_up_SPP.pdf', view = [0,0])\n",
    "Static_Poincare_sphere(P_dw_SPP, ['r'], 'down', save = True, path_and_filename_dot_pdf = PlotsPath+'S_dw_SPP.pdf', view = [0,0])"
   ]
  },
  {
   "cell_type": "markdown",
   "id": "0b2a6770",
   "metadata": {},
   "source": [
    "## Coherent pulse"
   ]
  },
  {
   "cell_type": "code",
   "execution_count": 11,
   "id": "5c1b5b48",
   "metadata": {},
   "outputs": [
    {
     "data": {
      "text/latex": [
       "Quantum object: dims = [[4], [1]], shape = (4, 1), type = ket $ \\\\ \\left(\\begin{matrix}0.0\\\\1.0\\\\0.0\\\\0.0\\\\\\end{matrix}\\right)$"
      ],
      "text/plain": [
       "Quantum object: dims = [[4], [1]], shape = (4, 1), type = ket\n",
       "Qobj data =\n",
       "[[0.]\n",
       " [1.]\n",
       " [0.]\n",
       " [0.]]"
      ]
     },
     "execution_count": 11,
     "metadata": {},
     "output_type": "execute_result"
    }
   ],
   "source": [
    "basis(4,1)"
   ]
  },
  {
   "cell_type": "code",
   "execution_count": 12,
   "id": "61b19d74",
   "metadata": {},
   "outputs": [],
   "source": [
    "[spinDw, spinUp, trionDw, trionUp] = [basis(4,i) for i in range(0,4)]"
   ]
  },
  {
   "cell_type": "code",
   "execution_count": 13,
   "id": "a91816d6",
   "metadata": {},
   "outputs": [],
   "source": [
    "sigmaL = spinUp*(trionUp.dag())\n",
    "sigmaR = spinDw*(trionDw.dag())"
   ]
  },
  {
   "cell_type": "code",
   "execution_count": 14,
   "id": "054ff265",
   "metadata": {},
   "outputs": [],
   "source": [
    "Delta = 0\n",
    "H0 = Delta*(sigmaR.dag()*sigmaR + sigmaL.dag()*sigmaL) "
   ]
  },
  {
   "cell_type": "code",
   "execution_count": 15,
   "id": "36b6e9cd",
   "metadata": {},
   "outputs": [],
   "source": [
    "tf = 100\n",
    "number_of_steps = 500\n",
    "t_list = linspace(0,tf,number_of_steps)"
   ]
  },
  {
   "cell_type": "code",
   "execution_count": 16,
   "id": "b82ca696",
   "metadata": {},
   "outputs": [],
   "source": [
    "n_H = 1\n",
    "Gamma = 1\n",
    "alpha_t_list = [np.sqrt(n_H*Gamma)*np.exp(-Gamma*t) for t in t_list]"
   ]
  },
  {
   "cell_type": "code",
   "execution_count": 17,
   "id": "fd07c66a",
   "metadata": {},
   "outputs": [],
   "source": [
    "Htot = [[(sigmaR.dag() - sigmaR), alpha_t_list], [(sigmaL.dag() - sigmaL), alpha_t_list]]"
   ]
  },
  {
   "cell_type": "code",
   "execution_count": 18,
   "id": "9055ded1",
   "metadata": {},
   "outputs": [
    {
     "data": {
      "text/latex": [
       "Quantum object: dims = [[4], [1]], shape = (4, 1), type = ket $ \\\\ \\left(\\begin{matrix}0.707\\\\0.707\\\\0.0\\\\0.0\\\\\\end{matrix}\\right)$"
      ],
      "text/plain": [
       "Quantum object: dims = [[4], [1]], shape = (4, 1), type = ket\n",
       "Qobj data =\n",
       "[[0.70710678]\n",
       " [0.70710678]\n",
       " [0.        ]\n",
       " [0.        ]]"
      ]
     },
     "execution_count": 18,
     "metadata": {},
     "output_type": "execute_result"
    }
   ],
   "source": [
    "initial_state = (spinDw + spinUp).unit()\n",
    "initial_state"
   ]
  },
  {
   "cell_type": "code",
   "execution_count": 19,
   "id": "c200a8c0",
   "metadata": {},
   "outputs": [
    {
     "ename": "TypeError",
     "evalue": "Incorrect Q_object specification",
     "output_type": "error",
     "traceback": [
      "\u001b[0;31m---------------------------------------------------------------------------\u001b[0m",
      "\u001b[0;31mTypeError\u001b[0m                                 Traceback (most recent call last)",
      "Cell \u001b[0;32mIn[19], line 1\u001b[0m\n\u001b[0;32m----> 1\u001b[0m dyn_solution \u001b[38;5;241m=\u001b[39m \u001b[43mmesolve\u001b[49m\u001b[43m(\u001b[49m\u001b[43mHtot\u001b[49m\u001b[43m,\u001b[49m\u001b[43m \u001b[49m\u001b[43minitial_state\u001b[49m\u001b[43m,\u001b[49m\u001b[43m \u001b[49m\u001b[43mt_list\u001b[49m\u001b[43m,\u001b[49m\u001b[43m  \u001b[49m\u001b[43mc_ops\u001b[49m\u001b[43m \u001b[49m\u001b[38;5;241;43m=\u001b[39;49m\u001b[43m \u001b[49m\u001b[43m[\u001b[49m\u001b[43msigmaR\u001b[49m\u001b[43m,\u001b[49m\u001b[43m \u001b[49m\u001b[43msigmaL\u001b[49m\u001b[43m]\u001b[49m\u001b[43m,\u001b[49m\u001b[43m \u001b[49m\u001b[43margs\u001b[49m\u001b[43m \u001b[49m\u001b[38;5;241;43m=\u001b[39;49m\u001b[43m \u001b[49m\u001b[38;5;28;43;01mNone\u001b[39;49;00m\u001b[43m)\u001b[49m\n",
      "File \u001b[0;32m/opt/anaconda3/lib/python3.9/site-packages/qutip/mesolve.py:231\u001b[0m, in \u001b[0;36mmesolve\u001b[0;34m(H, rho0, tlist, c_ops, e_ops, args, options, progress_bar, _safe_mode)\u001b[0m\n\u001b[1;32m    229\u001b[0m     ss \u001b[38;5;241m=\u001b[39m H\n\u001b[1;32m    230\u001b[0m \u001b[38;5;28;01melif\u001b[39;00m \u001b[38;5;28misinstance\u001b[39m(H, (\u001b[38;5;28mlist\u001b[39m, Qobj, QobjEvo)):\n\u001b[0;32m--> 231\u001b[0m     ss \u001b[38;5;241m=\u001b[39m \u001b[43m_mesolve_QobjEvo\u001b[49m\u001b[43m(\u001b[49m\u001b[43mH\u001b[49m\u001b[43m,\u001b[49m\u001b[43m \u001b[49m\u001b[43mc_ops\u001b[49m\u001b[43m,\u001b[49m\u001b[43m \u001b[49m\u001b[43mtlist\u001b[49m\u001b[43m,\u001b[49m\u001b[43m \u001b[49m\u001b[43margs\u001b[49m\u001b[43m,\u001b[49m\u001b[43m \u001b[49m\u001b[43moptions\u001b[49m\u001b[43m)\u001b[49m\n\u001b[1;32m    232\u001b[0m \u001b[38;5;28;01melif\u001b[39;00m \u001b[38;5;28mcallable\u001b[39m(H):\n\u001b[1;32m    233\u001b[0m     ss \u001b[38;5;241m=\u001b[39m _mesolve_func_td(H, c_ops, rho0, tlist, args, options)\n",
      "File \u001b[0;32m/opt/anaconda3/lib/python3.9/site-packages/qutip/mesolve.py:262\u001b[0m, in \u001b[0;36m_mesolve_QobjEvo\u001b[0;34m(H, c_ops, tlist, args, opt)\u001b[0m\n\u001b[1;32m    258\u001b[0m \u001b[38;5;28;01mdef\u001b[39;00m \u001b[38;5;21m_mesolve_QobjEvo\u001b[39m(H, c_ops, tlist, args, opt):\n\u001b[1;32m    259\u001b[0m \u001b[38;5;250m    \u001b[39m\u001b[38;5;124;03m\"\"\"\u001b[39;00m\n\u001b[1;32m    260\u001b[0m \u001b[38;5;124;03m    Prepare the system for the solver, H can be an QobjEvo.\u001b[39;00m\n\u001b[1;32m    261\u001b[0m \u001b[38;5;124;03m    \"\"\"\u001b[39;00m\n\u001b[0;32m--> 262\u001b[0m     H_td \u001b[38;5;241m=\u001b[39m \u001b[43mQobjEvo\u001b[49m\u001b[43m(\u001b[49m\u001b[43mH\u001b[49m\u001b[43m,\u001b[49m\u001b[43m \u001b[49m\u001b[43margs\u001b[49m\u001b[43m,\u001b[49m\u001b[43m \u001b[49m\u001b[43mtlist\u001b[49m\u001b[38;5;241;43m=\u001b[39;49m\u001b[43mtlist\u001b[49m\u001b[43m)\u001b[49m\n\u001b[1;32m    263\u001b[0m     \u001b[38;5;28;01mif\u001b[39;00m \u001b[38;5;129;01mnot\u001b[39;00m issuper(H_td\u001b[38;5;241m.\u001b[39mcte):\n\u001b[1;32m    264\u001b[0m         L_td \u001b[38;5;241m=\u001b[39m liouvillian(H_td)\n",
      "File \u001b[0;32m/opt/anaconda3/lib/python3.9/site-packages/qutip/qobjevo.py:439\u001b[0m, in \u001b[0;36mQobjEvo.__init__\u001b[0;34m(self, Q_object, args, copy, tlist, state0, e_ops)\u001b[0m\n\u001b[1;32m    436\u001b[0m     \u001b[38;5;28;01mexcept\u001b[39;00m (\u001b[38;5;167;01mTypeError\u001b[39;00m, \u001b[38;5;167;01mValueError\u001b[39;00m):\n\u001b[1;32m    437\u001b[0m         \u001b[38;5;28;01mpass\u001b[39;00m\n\u001b[0;32m--> 439\u001b[0m op_type \u001b[38;5;241m=\u001b[39m \u001b[38;5;28;43mself\u001b[39;49m\u001b[38;5;241;43m.\u001b[39;49m\u001b[43m_td_format_check\u001b[49m\u001b[43m(\u001b[49m\u001b[43mQ_object\u001b[49m\u001b[43m)\u001b[49m\n\u001b[1;32m    440\u001b[0m \u001b[38;5;28mself\u001b[39m\u001b[38;5;241m.\u001b[39mops \u001b[38;5;241m=\u001b[39m []\n\u001b[1;32m    442\u001b[0m \u001b[38;5;28;01mif\u001b[39;00m \u001b[38;5;28misinstance\u001b[39m(op_type, \u001b[38;5;28mint\u001b[39m):\n",
      "File \u001b[0;32m/opt/anaconda3/lib/python3.9/site-packages/qutip/qobjevo.py:526\u001b[0m, in \u001b[0;36mQobjEvo._td_format_check\u001b[0;34m(self, Q_object)\u001b[0m\n\u001b[1;32m    524\u001b[0m     \u001b[38;5;28;01mreturn\u001b[39;00m \u001b[38;5;241m1\u001b[39m\n\u001b[1;32m    525\u001b[0m \u001b[38;5;28;01mif\u001b[39;00m \u001b[38;5;28misinstance\u001b[39m(Q_object, \u001b[38;5;28mlist\u001b[39m):\n\u001b[0;32m--> 526\u001b[0m     \u001b[38;5;28;01mreturn\u001b[39;00m [\u001b[38;5;28mself\u001b[39m\u001b[38;5;241m.\u001b[39m_td_op_type(element) \u001b[38;5;28;01mfor\u001b[39;00m element \u001b[38;5;129;01min\u001b[39;00m Q_object] \u001b[38;5;129;01mor\u001b[39;00m \u001b[38;5;241m-\u001b[39m\u001b[38;5;241m1\u001b[39m\n\u001b[1;32m    527\u001b[0m \u001b[38;5;28;01mraise\u001b[39;00m \u001b[38;5;167;01mTypeError\u001b[39;00m(\u001b[38;5;124m\"\u001b[39m\u001b[38;5;124mIncorrect Q_object specification\u001b[39m\u001b[38;5;124m\"\u001b[39m)\n",
      "File \u001b[0;32m/opt/anaconda3/lib/python3.9/site-packages/qutip/qobjevo.py:526\u001b[0m, in \u001b[0;36m<listcomp>\u001b[0;34m(.0)\u001b[0m\n\u001b[1;32m    524\u001b[0m     \u001b[38;5;28;01mreturn\u001b[39;00m \u001b[38;5;241m1\u001b[39m\n\u001b[1;32m    525\u001b[0m \u001b[38;5;28;01mif\u001b[39;00m \u001b[38;5;28misinstance\u001b[39m(Q_object, \u001b[38;5;28mlist\u001b[39m):\n\u001b[0;32m--> 526\u001b[0m     \u001b[38;5;28;01mreturn\u001b[39;00m [\u001b[38;5;28;43mself\u001b[39;49m\u001b[38;5;241;43m.\u001b[39;49m\u001b[43m_td_op_type\u001b[49m\u001b[43m(\u001b[49m\u001b[43melement\u001b[49m\u001b[43m)\u001b[49m \u001b[38;5;28;01mfor\u001b[39;00m element \u001b[38;5;129;01min\u001b[39;00m Q_object] \u001b[38;5;129;01mor\u001b[39;00m \u001b[38;5;241m-\u001b[39m\u001b[38;5;241m1\u001b[39m\n\u001b[1;32m    527\u001b[0m \u001b[38;5;28;01mraise\u001b[39;00m \u001b[38;5;167;01mTypeError\u001b[39;00m(\u001b[38;5;124m\"\u001b[39m\u001b[38;5;124mIncorrect Q_object specification\u001b[39m\u001b[38;5;124m\"\u001b[39m)\n",
      "File \u001b[0;32m/opt/anaconda3/lib/python3.9/site-packages/qutip/qobjevo.py:551\u001b[0m, in \u001b[0;36mQobjEvo._td_op_type\u001b[0;34m(self, element)\u001b[0m\n\u001b[1;32m    549\u001b[0m     out \u001b[38;5;241m=\u001b[39m \u001b[38;5;241m3\u001b[39m\n\u001b[1;32m    550\u001b[0m \u001b[38;5;28;01melse\u001b[39;00m:\n\u001b[0;32m--> 551\u001b[0m     \u001b[38;5;28;01mraise\u001b[39;00m \u001b[38;5;167;01mTypeError\u001b[39;00m(\u001b[38;5;124m\"\u001b[39m\u001b[38;5;124mIncorrect Q_object specification\u001b[39m\u001b[38;5;124m\"\u001b[39m)\n\u001b[1;32m    552\u001b[0m \u001b[38;5;28;01mreturn\u001b[39;00m out\n",
      "\u001b[0;31mTypeError\u001b[0m: Incorrect Q_object specification"
     ]
    }
   ],
   "source": [
    "dyn_solution = mesolve(Htot, initial_state, t_list,  c_ops = [sigmaR, sigmaL], args = None)"
   ]
  },
  {
   "cell_type": "code",
   "execution_count": 20,
   "id": "c67f9b4c",
   "metadata": {},
   "outputs": [
    {
     "ename": "NameError",
     "evalue": "name 'dyn_solution' is not defined",
     "output_type": "error",
     "traceback": [
      "\u001b[0;31m---------------------------------------------------------------------------\u001b[0m",
      "\u001b[0;31mNameError\u001b[0m                                 Traceback (most recent call last)",
      "Cell \u001b[0;32mIn[20], line 1\u001b[0m\n\u001b[0;32m----> 1\u001b[0m \u001b[43mdyn_solution\u001b[49m\u001b[38;5;241m.\u001b[39mstates()\n",
      "\u001b[0;31mNameError\u001b[0m: name 'dyn_solution' is not defined"
     ]
    }
   ],
   "source": [
    "dyn_solution.states()"
   ]
  },
  {
   "cell_type": "code",
   "execution_count": null,
   "id": "097ab19e",
   "metadata": {},
   "outputs": [],
   "source": []
  }
 ],
 "metadata": {
  "kernelspec": {
   "display_name": "Python 3 (ipykernel)",
   "language": "python",
   "name": "python3"
  },
  "language_info": {
   "codemirror_mode": {
    "name": "ipython",
    "version": 3
   },
   "file_extension": ".py",
   "mimetype": "text/x-python",
   "name": "python",
   "nbconvert_exporter": "python",
   "pygments_lexer": "ipython3",
   "version": "3.9.16"
  }
 },
 "nbformat": 4,
 "nbformat_minor": 5
}
