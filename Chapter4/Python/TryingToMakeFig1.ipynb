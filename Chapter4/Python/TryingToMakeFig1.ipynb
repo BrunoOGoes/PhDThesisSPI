{
 "cells": [
  {
   "cell_type": "code",
   "execution_count": 87,
   "id": "64caa0a3",
   "metadata": {},
   "outputs": [],
   "source": [
    "# Qutip\n",
    "from qutip import *\n",
    "from tqdm import tqdm\n",
    "\n",
    "#from collections import namedtuple\n",
    "\n",
    "# Scipy\n",
    "import scipy as sp\n",
    "import scipy.integrate as integrate\n",
    "import scipy.special as special\n",
    "import scipy.sparse as spr\n",
    "from scipy.sparse.linalg import eigs\n",
    "from scipy.integrate import quad, dblquad\n",
    "\n",
    "# Matplotlib\n",
    "import matplotlib as mpl\n",
    "from matplotlib import cm\n",
    "import matplotlib.pyplot as plt\n",
    "import matplotlib.gridspec as gridspec\n",
    "\n",
    "# For latex fonts in the plots\n",
    "plt.rc('text', usetex=True)\n",
    "plt.rc('font', family='serif')\n",
    "#plt.style.use('ggplot')\n",
    "\n",
    "# For indexing plots smartly and automatically\n",
    "import string\n",
    "alphabet = list(string.ascii_lowercase)\n",
    "\n",
    "# Math\n",
    "import csv\n",
    "import numpy as np\n",
    "import math as mt\n",
    "from sympy import Matrix\n",
    "\n",
    "# To animate the Bloch sphere\n",
    "from pylab import *\n",
    "import matplotlib.animation as animation\n",
    "from mpl_toolkits.mplot3d import Axes3D\n",
    "from matplotlib import cm\n",
    "\n",
    "# Bonus\n",
    "import itertools as itr\n",
    "from tqdm import tqdm_notebook\n",
    "import time\n",
    "import imageio\n",
    "import time, sys\n",
    "from IPython.display import clear_output\n",
    "from scipy.sparse.linalg import eigs\n",
    "import pickle"
   ]
  },
  {
   "cell_type": "markdown",
   "id": "7fbe0eb4",
   "metadata": {},
   "source": [
    "# 1. 4LS Hilbert space and linear polarizations"
   ]
  },
  {
   "cell_type": "code",
   "execution_count": 131,
   "id": "fdac40cf",
   "metadata": {},
   "outputs": [],
   "source": [
    "# 4LS basis\n",
    "[spinDw, spinUp, trionDw, trionUp] = [basis(4,i) for i in range(4)]\n",
    "\n",
    "# Circular polarization operators\n",
    "sigmaR = spinUp*trionUp.dag()\n",
    "sigmaL = spinDw*trionDw.dag()\n",
    "\n",
    "#Linear polarization operators\n",
    "sigmaH = (sigmaR + sigmaL)/np.sqrt(2)\n",
    "sigmaV = np.exp(1j*np.pi/2)*(sigmaR - sigmaL)/np.sqrt(2)\n",
    "sigmaA = np.exp(1j*np.pi/4)*(sigmaR - 1j*sigmaL)/np.sqrt(2)\n",
    "sigmaD = np.exp(-1j*np.pi/4)*(sigmaR + 1j*sigmaL)/np.sqrt(2)\n",
    "\n",
    "#qBhat calculator\n",
    "\n",
    "qBhat = spinUp*spinDw.dag() "
   ]
  },
  {
   "cell_type": "code",
   "execution_count": 132,
   "id": "4f905d55",
   "metadata": {},
   "outputs": [
    {
     "data": {
      "text/latex": [
       "Quantum object: dims = [[4], [4]], shape = (4, 4), type = oper, isherm = False $ \\\\ \\left(\\begin{matrix}0.0 & 0.0 & 0.0 & 0.0\\\\1.0 & 0.0 & 0.0 & 0.0\\\\0.0 & 0.0 & 0.0 & 0.0\\\\0.0 & 0.0 & 0.0 & 0.0\\\\\\end{matrix}\\right)$"
      ],
      "text/plain": [
       "Quantum object: dims = [[4], [4]], shape = (4, 4), type = oper, isherm = False\n",
       "Qobj data =\n",
       "[[0. 0. 0. 0.]\n",
       " [1. 0. 0. 0.]\n",
       " [0. 0. 0. 0.]\n",
       " [0. 0. 0. 0.]]"
      ]
     },
     "execution_count": 132,
     "metadata": {},
     "output_type": "execute_result"
    }
   ],
   "source": [
    "qBhat"
   ]
  },
  {
   "cell_type": "markdown",
   "id": "4e2fe0cd",
   "metadata": {},
   "source": [
    "# 2. Physical system definition"
   ]
  },
  {
   "cell_type": "code",
   "execution_count": 133,
   "id": "e0177983",
   "metadata": {},
   "outputs": [
    {
     "data": {
      "text/latex": [
       "Quantum object: dims = [[4], [1]], shape = (4, 1), type = ket $ \\\\ \\left(\\begin{matrix}0.707\\\\0.707\\\\0.0\\\\0.0\\\\\\end{matrix}\\right)$"
      ],
      "text/plain": [
       "Quantum object: dims = [[4], [1]], shape = (4, 1), type = ket\n",
       "Qobj data =\n",
       "[[0.70710678]\n",
       " [0.70710678]\n",
       " [0.        ]\n",
       " [0.        ]]"
      ]
     },
     "execution_count": 133,
     "metadata": {},
     "output_type": "execute_result"
    }
   ],
   "source": [
    "#Initial state\n",
    "psi0 = (spinDw + spinUp).unit()\n",
    "psi0"
   ]
  },
  {
   "cell_type": "code",
   "execution_count": 134,
   "id": "a90c030f",
   "metadata": {},
   "outputs": [],
   "source": [
    "# Decreasing pulse\n",
    "def H1_coeff(t, args):\n",
    "    return np.sqrt(nH*Gamma)*np.exp(-(Gamma/2)*t)"
   ]
  },
  {
   "cell_type": "code",
   "execution_count": 135,
   "id": "140bea8d",
   "metadata": {},
   "outputs": [],
   "source": [
    "# Jump operators\n",
    "gamma = 1\n",
    "jump_ops = [np.sqrt(gamma)*sigmaR, np.sqrt(gamma)*sigmaL]"
   ]
  },
  {
   "cell_type": "code",
   "execution_count": 136,
   "id": "27db28f4",
   "metadata": {},
   "outputs": [],
   "source": [
    "detuning = 0\n",
    "\n",
    "H0 = detuning*(sigmaR.dag()*sigmaR + sigmaL.dag()*sigmaL)\n",
    "H1 = 1j*np.sqrt(gamma)*(sigmaH.dag() - sigmaH)\n",
    "\n",
    "H = [H0,[H1, H1_coeff]]"
   ]
  },
  {
   "cell_type": "code",
   "execution_count": 137,
   "id": "9ca87eef",
   "metadata": {},
   "outputs": [
    {
     "name": "stdout",
     "output_type": "stream",
     "text": [
      "CPU times: user 198 ms, sys: 5.74 ms, total: 203 ms\n",
      "Wall time: 202 ms\n"
     ]
    }
   ],
   "source": [
    "%%time\n",
    "gamma = 1\n",
    "nH = 100\n",
    "Gamma = 10\n",
    "\n",
    "tf = 50.*Gamma\n",
    "delta_t = 0.1\n",
    "tlist = np.arange(0, tf+delta_t, delta_t)\n",
    "\n",
    "output = mesolve(H, psi0, tlist, jump_ops, [qBhat, sigmaR.dag()*sigmaR, sigmaL.dag()*sigmaL])\n"
   ]
  },
  {
   "cell_type": "code",
   "execution_count": 138,
   "id": "69300739",
   "metadata": {},
   "outputs": [
    {
     "data": {
      "image/png": "[encoded data removed]",
      "text/plain": [
       "<Figure size 640x480 with 1 Axes>"
      ]
     },
     "metadata": {},
     "output_type": "display_data"
    }
   ],
   "source": [
    "fig, ax = plt.subplots()\n",
    "\n",
    "ax.plot(tlist, np.abs(output.expect[0])) \n",
    "\n",
    "ax.plot(tlist, np.abs(output.expect[1])) \n",
    "\n",
    "ax.plot(tlist, np.abs(output.expect[2])) \n",
    "\n",
    "ax.set_xlabel(r'$\\gamma t$') \n",
    "\n",
    "ax.set_ylabel('Expectation values') \n",
    "\n",
    "ax.legend((r\"$\\vert\\langle\\sigma_R\\rangle\\vert$\", r\"$\\vert\\langle\\sigma_L\\rangle\\vert$\"))  \n",
    "\n",
    "plt.show() "
   ]
  },
  {
   "cell_type": "code",
   "execution_count": 96,
   "id": "c8d66867",
   "metadata": {},
   "outputs": [],
   "source": [
    "#rho_ss = steadystate(H, jump_ops)"
   ]
  },
  {
   "cell_type": "code",
   "execution_count": 139,
   "id": "6ddfc3ff",
   "metadata": {},
   "outputs": [],
   "source": [
    "nH_list = np.arange(10**(-1),10**0+ 10**(-1), 10**(-1))\n",
    "Gamma_list = np.arange(10**(-2),10**1+ 10**(-1), 10**(-1))"
   ]
  },
  {
   "cell_type": "code",
   "execution_count": null,
   "id": "46314d7a",
   "metadata": {},
   "outputs": [
    {
     "name": "stderr",
     "output_type": "stream",
     "text": [
      "  0%|                                                    | 0/10 [00:00<?, ?it/s]\n",
      "  0%|                                                   | 0/101 [00:00<?, ?it/s]\u001b[A\n",
      "  4%|█▋                                         | 4/101 [00:00<00:03, 29.08it/s]\u001b[A\n",
      "  7%|██▉                                        | 7/101 [00:01<00:20,  4.62it/s]\u001b[A\n",
      "  9%|███▊                                       | 9/101 [00:02<00:36,  2.54it/s]\u001b[A\n",
      " 10%|████▏                                     | 10/101 [00:02<00:31,  2.86it/s]\u001b[A\n",
      " 11%|████▌                                     | 11/101 [00:03<00:31,  2.82it/s]\u001b[A\n",
      " 12%|████▉                                     | 12/101 [00:03<00:32,  2.73it/s]\u001b[A\n",
      " 13%|█████▍                                    | 13/101 [00:03<00:28,  3.07it/s]\u001b[A\n",
      " 14%|█████▊                                    | 14/101 [00:04<00:26,  3.33it/s]\u001b[A\n",
      " 15%|██████▏                                   | 15/101 [00:05<00:48,  1.77it/s]\u001b[A\n",
      " 16%|██████▋                                   | 16/101 [00:06<00:58,  1.44it/s]\u001b[A\n",
      " 17%|███████                                   | 17/101 [00:06<00:46,  1.79it/s]\u001b[A\n",
      " 18%|███████▍                                  | 18/101 [00:07<00:49,  1.67it/s]\u001b[A\n",
      " 19%|███████▉                                  | 19/101 [00:08<00:52,  1.56it/s]\u001b[A\n",
      " 20%|████████▎                                 | 20/101 [00:10<01:38,  1.21s/it]\u001b[A\n",
      " 21%|████████▋                                 | 21/101 [00:13<02:17,  1.71s/it]\u001b[A\n",
      " 22%|█████████▏                                | 22/101 [00:13<01:41,  1.29s/it]\u001b[A\n",
      " 23%|█████████▌                                | 23/101 [00:14<01:18,  1.01s/it]\u001b[A\n",
      " 24%|█████████▉                                | 24/101 [00:15<01:15,  1.02it/s]\u001b[A\n",
      " 25%|██████████▍                               | 25/101 [00:18<02:01,  1.59s/it]\u001b[A\n",
      " 26%|██████████▊                               | 26/101 [00:18<01:35,  1.27s/it]\u001b[A\n",
      " 27%|███████████▏                              | 27/101 [00:22<02:20,  1.90s/it]\u001b[A\n",
      " 28%|███████████▋                              | 28/101 [00:24<02:30,  2.06s/it]\u001b[A\n",
      " 29%|████████████                              | 29/101 [00:27<02:43,  2.28s/it]\u001b[A\n",
      " 30%|████████████▍                             | 30/101 [00:30<03:01,  2.55s/it]\u001b[A\n",
      " 31%|████████████▉                             | 31/101 [00:34<03:24,  2.92s/it]\u001b[A\n",
      " 32%|█████████████▎                            | 32/101 [00:38<03:38,  3.17s/it]\u001b[A\n",
      " 33%|█████████████▋                            | 33/101 [00:42<03:57,  3.49s/it]\u001b[A\n",
      " 34%|██████████████▏                           | 34/101 [00:46<04:13,  3.78s/it]\u001b[A\n",
      " 35%|██████████████▌                           | 35/101 [00:51<04:25,  4.02s/it]\u001b[A\n",
      " 36%|██████████████▉                           | 36/101 [00:51<03:15,  3.01s/it]\u001b[A\n",
      " 37%|███████████████▍                          | 37/101 [00:52<02:27,  2.30s/it]\u001b[A\n",
      " 38%|███████████████▊                          | 38/101 [00:53<01:54,  1.82s/it]\u001b[A\n",
      " 39%|████████████████▏                         | 39/101 [00:54<01:32,  1.49s/it]\u001b[A\n",
      " 40%|████████████████▋                         | 40/101 [00:54<01:16,  1.26s/it]\u001b[A\n",
      " 41%|█████████████████                         | 41/101 [00:55<01:05,  1.09s/it]\u001b[A\n",
      " 42%|█████████████████▍                        | 42/101 [00:56<00:58,  1.01it/s]\u001b[A\n",
      " 43%|█████████████████▉                        | 43/101 [01:02<02:21,  2.44s/it]\u001b[A\n",
      " 44%|██████████████████▎                       | 44/101 [01:10<04:01,  4.23s/it]\u001b[A\n",
      " 45%|██████████████████▋                       | 45/101 [01:18<05:02,  5.41s/it]\u001b[A\n",
      " 46%|███████████████████▏                      | 46/101 [01:26<05:38,  6.16s/it]\u001b[A\n",
      " 47%|███████████████████▌                      | 47/101 [01:35<06:13,  6.93s/it]\u001b[A\n",
      " 48%|███████████████████▉                      | 48/101 [01:44<06:41,  7.57s/it]\u001b[A\n",
      " 49%|████████████████████▍                     | 49/101 [01:53<06:59,  8.07s/it]\u001b[A\n",
      " 50%|████████████████████▊                     | 50/101 [01:54<05:01,  5.91s/it]\u001b[A\n",
      " 50%|█████████████████████▏                    | 51/101 [01:55<03:40,  4.41s/it]\u001b[A\n",
      " 51%|█████████████████████▌                    | 52/101 [01:56<02:44,  3.36s/it]\u001b[A\n",
      " 52%|██████████████████████                    | 53/101 [02:06<04:24,  5.50s/it]\u001b[A\n",
      " 53%|██████████████████████▍                   | 54/101 [02:17<05:28,  6.99s/it]\u001b[A\n",
      " 54%|██████████████████████▊                   | 55/101 [02:27<06:10,  8.06s/it]\u001b[A\n",
      " 55%|███████████████████████▎                  | 56/101 [02:38<06:46,  9.02s/it]\u001b[A\n",
      " 56%|███████████████████████▋                  | 57/101 [02:50<07:08,  9.75s/it]\u001b[A\n",
      " 57%|████████████████████████                  | 58/101 [03:02<07:30, 10.47s/it]\u001b[A\n",
      " 58%|████████████████████████▌                 | 59/101 [03:11<07:04, 10.10s/it]\u001b[A\n",
      " 59%|████████████████████████▉                 | 60/101 [03:24<07:24, 10.83s/it]\u001b[A\n",
      " 60%|█████████████████████████▎                | 61/101 [03:26<05:33,  8.34s/it]\u001b[A\n",
      " 61%|█████████████████████████▊                | 62/101 [03:28<04:01,  6.19s/it]\u001b[A\n",
      " 62%|██████████████████████████▏               | 63/101 [03:33<03:43,  5.89s/it]\u001b[A\n",
      " 63%|██████████████████████████▌               | 64/101 [03:38<03:27,  5.61s/it]\u001b[A\n",
      " 64%|███████████████████████████               | 65/101 [03:43<03:15,  5.44s/it]\u001b[A\n",
      " 65%|███████████████████████████▍              | 66/101 [03:44<02:26,  4.18s/it]\u001b[A\n",
      " 66%|███████████████████████████▊              | 67/101 [04:02<04:39,  8.23s/it]\u001b[A\n",
      " 67%|████████████████████████████▎             | 68/101 [04:20<06:16, 11.41s/it]\u001b[A\n",
      " 68%|████████████████████████████▋             | 69/101 [04:39<07:10, 13.46s/it]\u001b[A\n",
      " 69%|█████████████████████████████             | 70/101 [04:58<07:53, 15.27s/it]\u001b[A\n",
      " 70%|█████████████████████████████▌            | 71/101 [05:19<08:26, 16.87s/it]\u001b[A\n",
      " 71%|█████████████████████████████▉            | 72/101 [05:41<08:52, 18.38s/it]\u001b[A\n",
      " 72%|██████████████████████████████▎           | 73/101 [06:02<08:59, 19.28s/it]\u001b[A\n",
      " 73%|██████████████████████████████▊           | 74/101 [06:23<08:50, 19.64s/it]\u001b[A\n",
      " 74%|███████████████████████████████▏          | 75/101 [06:43<08:36, 19.85s/it]\u001b[A\n",
      " 75%|███████████████████████████████▌          | 76/101 [07:04<08:22, 20.12s/it]\u001b[A\n",
      " 76%|████████████████████████████████          | 77/101 [07:25<08:09, 20.38s/it]\u001b[A\n",
      " 77%|████████████████████████████████▍         | 78/101 [07:46<07:57, 20.77s/it]\u001b[A\n",
      " 78%|████████████████████████████████▊         | 79/101 [08:08<07:45, 21.17s/it]\u001b[A\n",
      " 79%|█████████████████████████████████▎        | 80/101 [08:31<07:32, 21.56s/it]\u001b[A\n",
      " 80%|█████████████████████████████████▋        | 81/101 [08:54<07:20, 22.01s/it]\u001b[A\n",
      " 81%|██████████████████████████████████        | 82/101 [09:17<07:06, 22.47s/it]\u001b[A\n",
      " 82%|██████████████████████████████████▌       | 83/101 [09:42<06:56, 23.15s/it]\u001b[A\n",
      " 83%|████████████████████████████████▍      | 84/101 [22:23<1:09:14, 244.38s/it]\u001b[A\n",
      " 84%|██████████████████████████████████▌      | 85/101 [22:48<47:35, 178.49s/it]\u001b[A\n",
      " 85%|██████████████████████████████████▉      | 86/101 [23:13<33:08, 132.57s/it]\u001b[A\n",
      " 86%|███████████████████████████████████▎     | 87/101 [23:40<23:31, 100.82s/it]\u001b[A\n",
      " 87%|████████████████████████████████████▌     | 88/101 [24:06<17:00, 78.48s/it]\u001b[A\n",
      " 88%|█████████████████████████████████████     | 89/101 [24:33<12:37, 63.13s/it]\u001b[A\n",
      " 89%|█████████████████████████████████████▍    | 90/101 [25:02<09:39, 52.66s/it]\u001b[A\n",
      " 90%|█████████████████████████████████████▊    | 91/101 [25:31<07:35, 45.59s/it]\u001b[A\n",
      " 91%|██████████████████████████████████████▎   | 92/101 [26:00<06:05, 40.62s/it]\u001b[A\n",
      " 92%|██████████████████████████████████████▋   | 93/101 [26:38<05:19, 39.98s/it]\u001b[A\n",
      " 93%|███████████████████████████████████████   | 94/101 [27:09<04:19, 37.12s/it]\u001b[A\n",
      " 94%|███████████████████████████████████████▌  | 95/101 [27:47<03:44, 37.39s/it]\u001b[A\n",
      " 95%|███████████████████████████████████████▉  | 96/101 [28:34<03:22, 40.44s/it]\u001b[A\n",
      " 96%|████████████████████████████████████████▎ | 97/101 [29:26<02:55, 43.76s/it]\u001b[A\n",
      " 97%|████████████████████████████████████████▊ | 98/101 [29:54<01:57, 39.17s/it]\u001b[A\n",
      " 98%|█████████████████████████████████████████▏| 99/101 [30:20<01:10, 35.11s/it]\u001b[A\n",
      " 99%|████████████████████████████████████████▌| 100/101 [30:23<00:25, 25.40s/it]\u001b[A\n",
      "100%|█████████████████████████████████████████| 101/101 [30:48<00:00, 18.30s/it]\u001b[A\n"
     ]
    },
    {
     "name": "stderr",
     "output_type": "stream",
     "text": [
      " 10%|████                                    | 1/10 [30:48<4:37:16, 1848.51s/it]\n",
      "  0%|                                                   | 0/101 [00:00<?, ?it/s]\u001b[A\n",
      "  2%|▊                                          | 2/101 [00:00<00:05, 19.05it/s]\u001b[A\n",
      "  4%|█▋                                         | 4/101 [00:00<00:11,  8.53it/s]\u001b[A\n",
      "  6%|██▌                                        | 6/101 [00:00<00:17,  5.46it/s]\u001b[A\n",
      "  7%|██▉                                        | 7/101 [00:01<00:27,  3.46it/s]\u001b[A\n",
      "  8%|███▍                                       | 8/101 [00:01<00:23,  3.88it/s]\u001b[A\n",
      "  9%|███▊                                       | 9/101 [00:02<00:46,  1.99it/s]\u001b[A\n",
      " 10%|████▏                                     | 10/101 [00:04<01:07,  1.34it/s]\u001b[A\n",
      " 11%|████▌                                     | 11/101 [00:04<01:02,  1.44it/s]\u001b[A\n",
      " 12%|████▉                                     | 12/101 [00:05<01:00,  1.47it/s]\u001b[A\n",
      " 13%|█████▍                                    | 13/101 [00:06<01:00,  1.45it/s]\u001b[A\n",
      " 14%|█████▊                                    | 14/101 [00:06<01:01,  1.41it/s]\u001b[A\n",
      " 15%|██████▏                                   | 15/101 [00:07<01:01,  1.39it/s]\u001b[A\n",
      " 16%|██████▋                                   | 16/101 [00:09<01:28,  1.05s/it]\u001b[A\n",
      " 17%|███████                                   | 17/101 [00:12<02:18,  1.65s/it]\u001b[A\n",
      " 18%|███████▍                                  | 18/101 [00:13<02:00,  1.46s/it]\u001b[A\n",
      " 19%|███████▉                                  | 19/101 [00:16<02:44,  2.01s/it]\u001b[A\n",
      " 20%|████████▎                                 | 20/101 [00:20<03:14,  2.40s/it]\u001b[A\n",
      " 21%|████████▋                                 | 21/101 [00:23<03:41,  2.76s/it]\u001b[A\n",
      " 22%|█████████▏                                | 22/101 [00:24<02:44,  2.08s/it]\u001b[A\n",
      " 23%|█████████▌                                | 23/101 [00:24<02:06,  1.62s/it]\u001b[A\n",
      " 24%|█████████▉                                | 24/101 [00:25<01:41,  1.32s/it]\u001b[A\n",
      " 25%|██████████▍                               | 25/101 [00:26<01:23,  1.10s/it]\u001b[A\n",
      " 26%|██████████▊                               | 26/101 [00:26<01:11,  1.04it/s]\u001b[A\n",
      " 27%|███████████▏                              | 27/101 [00:28<01:22,  1.11s/it]\u001b[A\n",
      " 28%|███████████▋                              | 28/101 [00:32<02:38,  2.17s/it]\u001b[A\n",
      " 29%|████████████                              | 29/101 [00:38<03:44,  3.11s/it]\u001b[A\n",
      " 30%|████████████▍                             | 30/101 [00:43<04:29,  3.79s/it]\u001b[A\n",
      " 31%|████████████▉                             | 31/101 [00:47<04:20,  3.72s/it]\u001b[A\n",
      " 32%|█████████████▎                            | 32/101 [00:52<04:57,  4.32s/it]\u001b[A\n",
      " 33%|█████████████▋                            | 33/101 [00:59<05:35,  4.94s/it]\u001b[A\n",
      " 34%|██████████████▏                           | 34/101 [01:05<05:55,  5.30s/it]\u001b[A\n",
      " 35%|██████████████▌                           | 35/101 [01:06<04:19,  3.94s/it]\u001b[A\n",
      " 36%|██████████████▉                           | 36/101 [01:06<03:13,  2.98s/it]\u001b[A\n",
      " 37%|███████████████▍                          | 37/101 [01:07<02:29,  2.33s/it]\u001b[A\n",
      " 38%|███████████████▊                          | 38/101 [01:10<02:34,  2.45s/it]\u001b[A\n",
      " 39%|████████████████▏                         | 39/101 [01:17<03:56,  3.81s/it]\u001b[A\n",
      " 40%|████████████████▋                         | 40/101 [01:18<02:58,  2.92s/it]\u001b[A\n",
      " 41%|█████████████████                         | 41/101 [01:27<04:58,  4.97s/it]\u001b[A\n",
      " 42%|█████████████████▍                        | 42/101 [01:37<06:21,  6.47s/it]\u001b[A\n",
      " 43%|█████████████████▉                        | 43/101 [01:48<07:28,  7.73s/it]\u001b[A\n",
      " 44%|██████████████████▎                       | 44/101 [02:01<08:46,  9.24s/it]\u001b[A\n",
      " 45%|██████████████████▋                       | 45/101 [02:02<06:20,  6.80s/it]\u001b[A\n",
      " 46%|███████████████████▏                      | 46/101 [02:03<04:39,  5.08s/it]\u001b[A\n",
      " 47%|███████████████████▌                      | 47/101 [02:04<03:30,  3.89s/it]\u001b[A\n",
      " 48%|███████████████████▉                      | 48/101 [02:05<02:42,  3.06s/it]\u001b[A\n",
      " 49%|████████████████████▍                     | 49/101 [02:06<02:09,  2.49s/it]\u001b[A\n",
      " 50%|████████████████████▊                     | 50/101 [02:07<01:45,  2.07s/it]\u001b[A\n",
      " 50%|█████████████████▋                 | 51/101 [2:02:31<30:07:00, 2168.42s/it]\u001b[A\n",
      " 51%|██████████████████                 | 52/101 [2:21:25<25:17:37, 1858.31s/it]\u001b[A\n",
      " 52%|██████████████████▎                | 53/101 [2:21:42<17:24:36, 1305.76s/it]\u001b[A\n",
      " 53%|███████████████████▏                | 54/101 [2:21:45<11:56:37, 914.84s/it]\u001b[A\n",
      " 54%|████████████████████▏                | 55/101 [2:21:46<8:11:13, 640.73s/it]\u001b[A\n",
      " 55%|████████████████████▌                | 56/101 [2:21:51<5:37:34, 450.11s/it]\u001b[A\n",
      " 56%|████████████████████▉                | 57/101 [2:21:57<3:52:25, 316.93s/it]\u001b[A\n",
      " 57%|█████████████████████▏               | 58/101 [2:22:04<2:40:28, 223.91s/it]\u001b[A\n",
      " 58%|█████████████████████▌               | 59/101 [2:22:06<1:50:01, 157.18s/it]\u001b[A\n",
      " 59%|█████████████████████▉               | 60/101 [2:22:28<1:19:47, 116.76s/it]\u001b[A\n",
      " 60%|████████████████████████▏               | 61/101 [2:22:50<58:53, 88.33s/it]\u001b[A\n",
      " 61%|████████████████████████▌               | 62/101 [2:23:10<44:06, 67.86s/it]\u001b[A\n",
      " 62%|████████████████████████▉               | 63/101 [2:23:31<34:05, 53.84s/it]\u001b[A\n",
      " 63%|█████████████████████████▎              | 64/101 [2:23:52<27:08, 44.00s/it]\u001b[A"
     ]
    }
   ],
   "source": [
    "%%time\n",
    "qBhat_cs = []\n",
    "onlyqBhat_cs = []\n",
    "\n",
    "gamma = 1\n",
    "for nH in tqdm(nH_list):\n",
    "    for Gamma in tqdm(Gamma_list):\n",
    "        \n",
    "        tf = 10000.*Gamma\n",
    "        delta_t = 10\n",
    "        tlist = np.arange(0, tf+delta_t, delta_t)\n",
    "        \n",
    "        output = mesolve(H, psi0, tlist, jump_ops, [qBhat, sigmaR.dag()*sigmaR, sigmaL.dag()*sigmaL])\n",
    "        \n",
    "        qBhat_cs.append([nH, Gamma, output.expect[0][-1]])\n",
    "        \n",
    "        "
   ]
  },
  {
   "cell_type": "code",
   "execution_count": null,
   "id": "47803049",
   "metadata": {},
   "outputs": [],
   "source": [
    "import numpy as np\n",
    "import matplotlib.pyplot as plt\n",
    "from scipy.interpolate import griddata\n",
    "\n",
    "# Extract x, y, and z values from the list\n",
    "data = qBhat_cs\n",
    "x = np.array([point[0] for point in data])\n",
    "y = np.array([point[1] for point in data])\n",
    "z = np.array([np.abs(point[2]) for point in data])\n",
    "\n",
    "# Create a meshgrid of x and y values\n",
    "x_grid, y_grid = np.meshgrid(np.unique(x), np.unique(y))\n",
    "\n",
    "# Interpolate z values on the meshgrid\n",
    "z_grid = griddata((x, y), z, (x_grid, y_grid), method='linear')\n",
    "\n",
    "# Create the contour plot\n",
    "plt.contourf(x_grid, y_grid, z_grid)\n",
    "plt.colorbar()  # Add a colorbar\n",
    "#plt.xlabel('x')\n",
    "plt.xlabel(r'$\\bar{n}$')\n",
    "plt.title('Contour Plot')\n",
    "\n",
    "# Set y-axis to logarithmic scale\n",
    "plt.yscale('log')\n",
    "\n",
    "# Display the plot\n",
    "plt.show()"
   ]
  },
  {
   "cell_type": "markdown",
   "id": "1415dbab",
   "metadata": {},
   "source": [
    "# 3. Steady state qBhat"
   ]
  },
  {
   "cell_type": "code",
   "execution_count": null,
   "id": "e7e743af",
   "metadata": {},
   "outputs": [],
   "source": []
  }
 ],
 "metadata": {
  "kernelspec": {
   "display_name": "Python 3 (ipykernel)",
   "language": "python",
   "name": "python3"
  },
  "language_info": {
   "codemirror_mode": {
    "name": "ipython",
    "version": 3
   },
   "file_extension": ".py",
   "mimetype": "text/x-python",
   "name": "python",
   "nbconvert_exporter": "python",
   "pygments_lexer": "ipython3",
   "version": "3.9.16"
  }
 },
 "nbformat": 4,
 "nbformat_minor": 5
}
